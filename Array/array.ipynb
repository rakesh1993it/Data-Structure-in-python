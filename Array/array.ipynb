{
 "cells": [
  {
   "cell_type": "code",
   "execution_count": 43,
   "metadata": {},
   "outputs": [
    {
     "name": "stdout",
     "output_type": "stream",
     "text": [
      "[3, 4, 5, 6, 7]\n"
     ]
    }
   ],
   "source": [
    "def printNumber(arr):\n",
    "    d=[]\n",
    "    for i in arr:\n",
    "        d.append(i)\n",
    "    return d\n",
    "    \n",
    "arr =[3,4,5,6,7]\n",
    "print(printNumber(arr))"
   ]
  },
  {
   "cell_type": "code",
   "execution_count": 49,
   "metadata": {},
   "outputs": [
    {
     "name": "stdout",
     "output_type": "stream",
     "text": [
      "[7, 6, 5, 4, 3]\n"
     ]
    }
   ],
   "source": [
    "def reverseNumber(arr):\n",
    "    d=[]\n",
    "    for i in range(len(arr),0,-1):\n",
    "        d.append(arr[i-1])\n",
    "    return d\n",
    "\n",
    "    \n",
    "arr =[3,4,5,6,7]\n",
    "print(reverseNumber(arr))"
   ]
  },
  {
   "cell_type": "code",
   "execution_count": 39,
   "metadata": {},
   "outputs": [
    {
     "name": "stdout",
     "output_type": "stream",
     "text": [
      "hsekar\n"
     ]
    }
   ],
   "source": [
    "def reverseString(str):\n",
    "    n=len(str)\n",
    "    text=\"\"    \n",
    "    for i in range (n,0,-1):\n",
    "        text += str[i-1]\n",
    "    return text\n",
    "str=\"rakesh\"\n",
    "print(reverseString(str))"
   ]
  },
  {
   "cell_type": "code",
   "execution_count": 42,
   "metadata": {},
   "outputs": [
    {
     "name": "stdout",
     "output_type": "stream",
     "text": [
      "rakgesh\n"
     ]
    }
   ],
   "source": [
    "# add g after k in the string\n",
    "\n",
    "def addCharInStr(str1,letter):\n",
    "    n=len(str1)\n",
    "    text=\"\"\n",
    "    for i in  str1:\n",
    "        if i=='e':\n",
    "            text +=letter\n",
    "        text +=i\n",
    "    return text\n",
    "\n",
    "str1=\"rakesh\"\n",
    "print(addCharInStr(str1,\"g\"))"
   ]
  },
  {
   "cell_type": "code",
   "execution_count": 62,
   "metadata": {},
   "outputs": [
    {
     "name": "stdout",
     "output_type": "stream",
     "text": [
      "[1, 3, 4, 5, 6, 7]\n"
     ]
    }
   ],
   "source": [
    "# Insert the element at begining of the array\n",
    "\n",
    "def addBeginElement(arr, ele):\n",
    "    d=[]   \n",
    "    for i in arr:\n",
    "        if i==arr[0]:\n",
    "            d.append(ele)\n",
    "        d.append(i)\n",
    "\n",
    "    return d\n",
    "    \n",
    "arr =[3,4,5,6,7]\n",
    "print(addBeginElement(arr,1))"
   ]
  },
  {
   "cell_type": "code",
   "execution_count": 70,
   "metadata": {},
   "outputs": [
    {
     "name": "stdout",
     "output_type": "stream",
     "text": [
      "Print 1st all o's and the 1's: [0, 0, 0, 0, 1, 1, 1]\n"
     ]
    }
   ],
   "source": [
    "\n",
    "def printZeroAndOne(arr):\n",
    "    dist=[]\n",
    "    countZero=0\n",
    "    countOne=0\n",
    "    for i in arr:\n",
    "        if i==0:\n",
    "            countZero +=1   \n",
    "\n",
    "    for i in range(0,countZero):\n",
    "        dist.append(0)\n",
    "    for j in range(countZero,len(arr)):\n",
    "        dist.append(1)\n",
    "        \n",
    "    return dist\n",
    "\n",
    "arr=[0,0,1,1,0,0,1]\n",
    "print(\"Print 1st all o's and the 1's:\",printZeroAndOne(arr))"
   ]
  },
  {
   "cell_type": "code",
   "execution_count": null,
   "metadata": {},
   "outputs": [],
   "source": [
    "def findMinElement(arr):\n",
    "    minElement=0\n",
    "    n=len(arr)\n",
    "    if n<2:\n",
    "        return -1\n",
    "    \n",
    "    for i in arr:\n",
    "        if arr[i]<arr[i+1]:\n",
    "            minElement=arr[i]"
   ]
  }
 ],
 "metadata": {
  "kernelspec": {
   "display_name": "Python 3",
   "language": "python",
   "name": "python3"
  },
  "language_info": {
   "codemirror_mode": {
    "name": "ipython",
    "version": 3
   },
   "file_extension": ".py",
   "mimetype": "text/x-python",
   "name": "python",
   "nbconvert_exporter": "python",
   "pygments_lexer": "ipython3",
   "version": "3.6.8"
  }
 },
 "nbformat": 4,
 "nbformat_minor": 2
}
