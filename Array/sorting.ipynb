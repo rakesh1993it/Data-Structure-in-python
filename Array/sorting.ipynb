{
 "cells": [
  {
   "cell_type": "code",
   "execution_count": 9,
   "metadata": {},
   "outputs": [
    {
     "name": "stdout",
     "output_type": "stream",
     "text": [
      "Sorted array is:\n",
      "2\n",
      "3\n",
      "4\n",
      "5\n",
      "6\n",
      "8\n"
     ]
    }
   ],
   "source": [
    "def bubbleSort(arr):\n",
    "    n=len(arr)\n",
    "    for i in range(n):\n",
    "        for j in range(0, n-i-1):\n",
    "            if arr[j] > arr[j+1]:\n",
    "                arr[j], arr[j+1] = arr[j+1], arr[j]\n",
    "                \n",
    "arr = [3,2,6,4,5,8]\n",
    "bubbleSort(arr)\n",
    " \n",
    "print (\"Sorted array is:\")\n",
    "for i in range(len(arr)):\n",
    "    print (\"%d\" %arr[i]), \n",
    "                "
   ]
  },
  {
   "cell_type": "code",
   "execution_count": 6,
   "metadata": {},
   "outputs": [
    {
     "name": "stdout",
     "output_type": "stream",
     "text": [
      "4 5\n",
      "4 3\n",
      "5 3\n",
      "7 3\n",
      "4\n"
     ]
    }
   ],
   "source": [
    "def countPaire(arr, sum):\n",
    "    count=0\n",
    "    for i in range(0,len(arr)):\n",
    "        for j in range(i+1,len(arr)):\n",
    "            if (arr[i] + arr[j]) <= sum:\n",
    "                print(arr[i], arr[j])\n",
    "                count +=1\n",
    "    return count\n",
    "\n",
    "arr=[4, 5, 7, 3]\n",
    "sum=10\n",
    "print(countPaire(arr,sum))"
   ]
  },
  {
   "cell_type": "code",
   "execution_count": 2,
   "metadata": {},
   "outputs": [
    {
     "name": "stdout",
     "output_type": "stream",
     "text": [
      "True\n"
     ]
    }
   ],
   "source": [
    "def countPair1(arr, sum):\n",
    "    i=0\n",
    "    j=len(arr)-1\n",
    "    \n",
    "    while(j>i):\n",
    "        if(arr[i]+ arr[j] == sum):\n",
    "            return True\n",
    "        elif(arr[i]+ arr[j] > sum):\n",
    "            j -=1\n",
    "        else:\n",
    "            i +=1\n",
    "    return False\n",
    "            \n",
    "        \n",
    "arr=[1, 5, 7, -1]\n",
    "sum=6\n",
    "print(countPair1(arr,sum))"
   ]
  },
  {
   "cell_type": "code",
   "execution_count": 5,
   "metadata": {},
   "outputs": [
    {
     "name": "stdout",
     "output_type": "stream",
     "text": [
      "The following pair of number in array adds up to 10: 5 and 5\n",
      "None\n"
     ]
    }
   ],
   "source": [
    "#given an array of numbers, find a pair of number that add up to 10\n",
    "def IsPairOf10 (given_array):\n",
    "    seen_numbers = {}\n",
    "    for item in given_array:\n",
    "        if (10 - item) in seen_numbers:\n",
    "            print('The following pair of number in array adds up to 10: ' + str(item) + ' and ' + str(10 - item))\n",
    "            return\n",
    "        else:\n",
    "            seen_numbers[item] = 'number in the list'\n",
    "        \n",
    "    print('there is no a pair of numbers that adds up to 10')\n",
    "    \n",
    "list1 = [4, 5, 7, 3]\n",
    "list2 = [5, 7, 0, 6,5]\n",
    "list3 = [9, 2, 8, 1, 3]\n",
    "list4 = [-12, 4, -67, 2]\n",
    "\n",
    "print(IsPairOf10(list2)) # should return 5\n",
    "\n"
   ]
  },
  {
   "cell_type": "code",
   "execution_count": 1,
   "metadata": {},
   "outputs": [
    {
     "name": "stdout",
     "output_type": "stream",
     "text": [
      "Array has two elements with the given sum\n"
     ]
    }
   ],
   "source": [
    "# Python program to check for the sum condition to be satisified \n",
    "  \n",
    "def hasArrayTwoCandidates(A, arr_size, sum): \n",
    "      \n",
    "    # sort the array \n",
    "    quickSort(A, 0, arr_size-1) \n",
    "    l = 0\n",
    "    r = arr_size-1\n",
    "      \n",
    "    # traverse the array for the two elements \n",
    "    while l<r: \n",
    "        if (A[l] + A[r] == sum): \n",
    "            return 1\n",
    "        elif (A[l] + A[r] < sum): \n",
    "            l += 1\n",
    "        else: \n",
    "            r -= 1\n",
    "    return 0\n",
    "  \n",
    "# Implementation of Quick Sort \n",
    "# A[] --> Array to be sorted \n",
    "# si  --> Starting index \n",
    "# ei  --> Ending index \n",
    "def quickSort(A, si, ei): \n",
    "    if si < ei: \n",
    "        pi = partition(A, si, ei) \n",
    "        quickSort(A, si, pi-1) \n",
    "        quickSort(A, pi + 1, ei) \n",
    "        \n",
    "def partition(A, si, ei): \n",
    "    x = A[ei] \n",
    "    i = (si-1) \n",
    "    for j in range(si, ei): \n",
    "        if A[j] <= x: \n",
    "            i += 1\n",
    "              \n",
    "            # This operation is used to swap two variables is python \n",
    "            A[i], A[j] = A[j], A[i] \n",
    "  \n",
    "        A[i + 1], A[ei] = A[ei], A[i + 1] \n",
    "          \n",
    "    return i + 1\n",
    "      \n",
    "\n",
    "    \n",
    "# Driver program to test the functions \n",
    "A = [1, 4, 45, 6, 10, -8] \n",
    "n = 16\n",
    "if (hasArrayTwoCandidates(A, len(A), n)): \n",
    "    print(\"Array has two elements with the given sum\") \n",
    "else: \n",
    "    print(\"Array doesn't have two elements with the given sum\") "
   ]
  },
  {
   "cell_type": "code",
   "execution_count": 7,
   "metadata": {},
   "outputs": [
    {
     "name": "stdout",
     "output_type": "stream",
     "text": [
      "Pair with given sum 16 is (10, 6)\n"
     ]
    }
   ],
   "source": [
    "def printPairs(arr, arr_size, sum):       \n",
    "    # Create an empty hash set \n",
    "    s = set() \n",
    "      \n",
    "    for i in range(0, arr_size): \n",
    "        temp = sum-arr[i] \n",
    "        if (temp in s): \n",
    "            print (\"Pair with given sum \"+ str(sum) + \" is (\" + str(arr[i]) + \", \" + str(temp) + \")\")\n",
    "        s.add(arr[i]) \n",
    "\n",
    "# driver program to check the above function \n",
    "A = [1, 4, 45, 6, 10, 8] \n",
    "n = 16\n",
    "printPairs(A, len(A), n) "
   ]
  },
  {
   "cell_type": "code",
   "execution_count": 20,
   "metadata": {},
   "outputs": [
    {
     "name": "stdout",
     "output_type": "stream",
     "text": [
      "7   1\n",
      "6   2\n",
      "6   2\n",
      "4   4\n",
      "4\n"
     ]
    }
   ],
   "source": [
    "# Given two unsorted arrays, find all pairs whose sum is x\n",
    "\n",
    "# Naiv approach\n",
    "\n",
    "def naivSumOfPair(list1,list2,sum_x):\n",
    "    count=0\n",
    "    for i in arr1:\n",
    "        for j in arr2:\n",
    "            if(i+j==sum_x):\n",
    "                count +=1\n",
    "                print(i,' ',j)\n",
    "#                 print(count)\n",
    "    return count\n",
    "\n",
    "# using Hash table\n",
    "def sumOfPair(list1,list2,sum_x):\n",
    "    list3=[]\n",
    "    for i in list1:\n",
    "        list3.append(i)\n",
    "    for j in list2:\n",
    "        if sum_x>j:\n",
    "            if (sum_x-j) in list3:\n",
    "                print(j,sum_x-j)\n",
    "    \n",
    "    return 1\n",
    "\n",
    "# arr1=[-1,-2,4,-6,5,7]\n",
    "# arr2=[6,3,4,0]\n",
    "\n",
    "arr1 = [1, 0, -4, 7, 6, 4] \n",
    "arr2 = [0, 2, 4, -3, 2, 1] \n",
    "sum_x=8\n",
    "print(naivSumOfPair(arr1,arr2,sum_x))"
   ]
  },
  {
   "cell_type": "code",
   "execution_count": 1,
   "metadata": {},
   "outputs": [
    {
     "name": "stdout",
     "output_type": "stream",
     "text": [
      "4\n"
     ]
    }
   ],
   "source": [
    "# python program to count subarrays \n",
    "# having sum less than k. \n",
    "\n",
    "# Function to find number of subarrays \n",
    "# having sum less than k. \n",
    "def countSubarray(arr, n, k): \n",
    "    count = 0\n",
    "\n",
    "    for i in range(0, n): \n",
    "        sum = 0; \n",
    "        for j in range(i, n): \n",
    "\n",
    "            # If sum is less than k \n",
    "            # then update sum and \n",
    "            # increment count \n",
    "            if (sum + arr[j] < k): \n",
    "                sum = arr[j] + sum\n",
    "                count+= 1\n",
    "            else: \n",
    "                break\n",
    "    return count; \n",
    "\n",
    "\n",
    "# Driver Code \n",
    "array = [1, 11, 2, 3, 15] \n",
    "k = 10\n",
    "size = len(array) \n",
    "count = countSubarray(array, size, k); \n",
    "print(count) \n"
   ]
  },
  {
   "cell_type": "code",
   "execution_count": 2,
   "metadata": {},
   "outputs": [
    {
     "name": "stdout",
     "output_type": "stream",
     "text": [
      "4\n"
     ]
    }
   ],
   "source": [
    "# Python 3 program to count subarrays having sum less than k. \n",
    "\n",
    "# Function to find number of subarrays having sum less than k. \n",
    "def countSubarrays(arr, n, k): \n",
    "\n",
    "    start = 0\n",
    "    end = 0\n",
    "    count = 0\n",
    "    sum = arr[0] \n",
    "\n",
    "    while (start < n and end < n) : \n",
    "\n",
    "        # If sum is less than k, move end \n",
    "        # by one position. Update count and \n",
    "        # sum accordingly. \n",
    "        if (sum < k) : \n",
    "            end += 1           \n",
    "\n",
    "            if (end >= start): \n",
    "                count += end - start \n",
    "\n",
    "            # For last element, end may become n \n",
    "            if (end < n): \n",
    "                sum += arr[end] \n",
    "\n",
    "        # If sum is greater than or equal to k, \n",
    "        # subtract arr[start] from sum and \n",
    "        # decrease sliding window by moving \n",
    "        # start by one position \n",
    "        else : \n",
    "            sum -= arr[start] \n",
    "            start += 1\n",
    "\n",
    "    return count \n",
    "\n",
    "# Driver Code \n",
    "if __name__ == \"__main__\": \n",
    "\n",
    "    array = [ 1, 11, 2, 3, 15 ] \n",
    "    k = 10\n",
    "    size = len(array) \n",
    "    print(countSubarrays(array, size, k)) \n",
    "\n"
   ]
  },
  {
   "cell_type": "raw",
   "metadata": {},
   "source": [
    "Number of subarrays having product less than K\n",
    "Given an Array of positive numbers, calculate the number of possible contiguous subarrays having product lesser than a given number K.\n",
    "\n",
    "Examples :\n",
    "\n",
    "Input : arr[] = [1, 2, 3, 4] \n",
    "        K = 10\n",
    "Output : 7\n",
    "The subarrays are {1}, {2}, {3}, {4}\n",
    "{1, 2}, {1, 2, 3} and {2, 3}\n",
    "\n",
    "Input  : arr[] = [1, 9, 2, 8, 6, 4, 3] \n",
    "         K = 100\n",
    "Output : 16"
   ]
  },
  {
   "cell_type": "code",
   "execution_count": 8,
   "metadata": {},
   "outputs": [
    {
     "name": "stdout",
     "output_type": "stream",
     "text": [
      "7 "
     ]
    }
   ],
   "source": [
    "# Number of subarrays having product less than K\n",
    "\n",
    "\n",
    "# Python3 program to count subarrays having product less than k. \n",
    "\n",
    "def countsubarray(array, n, k): \n",
    "    count = 0\n",
    "    for i in range(0, n): \n",
    "\n",
    "        # Counter for single element \n",
    "        if array[i] <= k: \n",
    "            count += 1\n",
    "\n",
    "        mul = array[i] \n",
    "\n",
    "        for j in range(i + 1, n): \n",
    "\n",
    "            # Multiple subarray \n",
    "            mul = mul * array[j] \n",
    "\n",
    "            # If this multiple is less \n",
    "            # than k, then increment \n",
    "            if mul <= k: \n",
    "                count += 1\n",
    "            else: \n",
    "                break\n",
    "    return count \n",
    "\n",
    "# Driver Code \n",
    "array = [ 1, 2, 3, 4 ] \n",
    "k = 10\n",
    "size = len(array) \n",
    "count = countsubarray(array, size, k); \n",
    "print (count, end = \" \") \n",
    "\n"
   ]
  },
  {
   "cell_type": "raw",
   "metadata": {},
   "source": [
    "  a = [5, 3, 2]\n",
    "  k = 16\n",
    " \n",
    "  counter = 0\n",
    "  Window: [5]\n",
    "  Product: 5\n",
    "\n",
    "  5  counter += 1+ (0-0)\n",
    "  counter = 1\n",
    "  Window: [5,3]\n",
    "  Product: 15\n",
    "\n",
    "  15  counter += 1 + (1-0)\n",
    "  counter = 3\n",
    "  Window: [5,3,2]\n",
    "  Product: 30\n",
    "\n",
    "  30 > 16 --> Adjust the left border\n",
    "  New Window: [3,2]\n",
    "  New Product: 6\n",
    "\n",
    "  6  counter += 1 + (2-1)\n",
    "  counter = 5\n",
    "  Answer: 5"
   ]
  },
  {
   "cell_type": "code",
   "execution_count": 3,
   "metadata": {},
   "outputs": [
    {
     "name": "stdout",
     "output_type": "stream",
     "text": [
      "7\n",
      "16\n",
      "5\n",
      "0\n",
      "1\n"
     ]
    }
   ],
   "source": [
    "# Python3 program to count \n",
    "# subarrays having product \n",
    "# less than k. \n",
    "\n",
    "def countSubArrayProductLessThanK(a,k): \n",
    "    n = len(a) \n",
    "    p = 1\n",
    "    res = 0\n",
    "    start = 0\n",
    "    end = 0\n",
    "    while(end < n): \n",
    "\n",
    "        # Move right bound by 1 \n",
    "        # step. Update the product. \n",
    "        p *= a[end] \n",
    "\n",
    "        # Move left bound so guarantee \n",
    "        # that p is again less than k. \n",
    "        while (start < end and p >= k): \n",
    "            p =int(p//a[start]) \n",
    "            start+=1\n",
    "\n",
    "        # If p is less than k, update \n",
    "        # the counter. Note that this \n",
    "        # is working even for (start == end): \n",
    "        # it means that the previous \n",
    "        # window cannot grow anymore \n",
    "        # and a single array element \n",
    "        # is the only addendum. \n",
    "        if (p < k): \n",
    "            l = end - start + 1\n",
    "            res += l \n",
    "\n",
    "        end+=1\n",
    "\n",
    "    return res \n",
    "\n",
    "\n",
    "# Driver Code \n",
    "if __name__=='__main__': \n",
    "    print(countSubArrayProductLessThanK([1, 2, 3, 4], 10)) \n",
    "    print(countSubArrayProductLessThanK([1, 9, 2, 8, 6, 4, 3], 100)) \n",
    "    print(countSubArrayProductLessThanK([5, 3, 2], 16)) \n",
    "    print(countSubArrayProductLessThanK([100, 200], 100)) \n",
    "    print(countSubArrayProductLessThanK([100, 200], 101)) \n"
   ]
  },
  {
   "cell_type": "code",
   "execution_count": 4,
   "metadata": {},
   "outputs": [
    {
     "name": "stdout",
     "output_type": "stream",
     "text": [
      "24\n"
     ]
    }
   ],
   "source": [
    "# Sliding Window technique\n",
    "\n",
    "# O(n) solution for finding  maximum sum of a subarray of size k \n",
    "import sys \n",
    "INT_MIN = -sys.maxsize -1\n",
    "\n",
    "def maxSum(arr, n, k): \n",
    "\n",
    "    # n must be greater than k \n",
    "    if not n > k: \n",
    "        print(\"Invalid\") \n",
    "        return -1\n",
    "\n",
    "    # Compute sum of first window of size k \n",
    "    max_sum = INT_MIN \n",
    "    window_sum = sum([arr[i] for i in range(k)]) \n",
    "\n",
    "    # Compute sums of remaining windows by \n",
    "    # removing first element of previous \n",
    "    # window and adding last element of \n",
    "    # current window. \n",
    "    for i in range(n-k): \n",
    "        window_sum = window_sum - arr[i] + arr[i + k] \n",
    "        max_sum = max(window_sum, max_sum) \n",
    "\n",
    "    return max_sum \n",
    "\n",
    "# Driver code \n",
    "arr = [1, 4, 2, 10, 2, 3, 1, 0, 20] \n",
    "k = 4\n",
    "n = len(arr) \n",
    "print(maxSum(arr, n, k)) \n",
    "\n"
   ]
  },
  {
   "cell_type": "code",
   "execution_count": null,
   "metadata": {},
   "outputs": [],
   "source": []
  }
 ],
 "metadata": {
  "kernelspec": {
   "display_name": "Python 3",
   "language": "python",
   "name": "python3"
  },
  "language_info": {
   "codemirror_mode": {
    "name": "ipython",
    "version": 3
   },
   "file_extension": ".py",
   "mimetype": "text/x-python",
   "name": "python",
   "nbconvert_exporter": "python",
   "pygments_lexer": "ipython3",
   "version": "3.6.8"
  }
 },
 "nbformat": 4,
 "nbformat_minor": 2
}
