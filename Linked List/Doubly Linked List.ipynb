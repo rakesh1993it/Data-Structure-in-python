{
 "cells": [
  {
   "cell_type": "markdown",
   "metadata": {},
   "source": [
    "# Doubly Linked List"
   ]
  },
  {
   "cell_type": "code",
   "execution_count": 17,
   "metadata": {},
   "outputs": [
    {
     "name": "stdout",
     "output_type": "stream",
     "text": [
      "1\n",
      "2\n",
      "3\n",
      "4\n"
     ]
    },
    {
     "data": {
      "text/plain": [
       "True"
      ]
     },
     "execution_count": 17,
     "metadata": {},
     "output_type": "execute_result"
    }
   ],
   "source": [
    "\n",
    "class Node:\n",
    "    # Constructor to initialize data\n",
    "    # If data is not given by user,its taken as None \n",
    "    def __init__(self, data=None, next=None, prev=None):\n",
    "        self.data = data\n",
    "        self.next = next\n",
    "        self.prev = prev\n",
    "    # method for setting the data field of the node    \n",
    "    def set_data(self, data):\n",
    "        self.data = data\n",
    "    # method for getting the data field of the node   \n",
    "    def get_data(self):\n",
    "        return self.data\n",
    "    # method for setting the next field of the node\n",
    "    def set_next(self, next):\n",
    "        self.next = next\n",
    "    # method for getting the next field of the node    \n",
    "    def get_next(self):\n",
    "        return self.next\n",
    "    # returns true if the node points to another node\n",
    "    def has_next(self):\n",
    "            return self.next != None\n",
    "    # method for setting the next field of the node\n",
    "    def setPrev(self, prev):\n",
    "        self.prev = prev\n",
    "       # method for getting the next field of the node    \n",
    "    def getPrev(self):\n",
    "        return self.prev\n",
    "    # returns true if the node points to another node\n",
    "    def hasPrev(self):\n",
    "            return self.prev != None\t    \n",
    "    # __str__ returns string equivalent of Object\n",
    "    def __str__(self):\n",
    "        return \"Node[Data = %s]\" % (self.data,)\n",
    "\n",
    "class DoubleLinkedList:\n",
    "    \n",
    "    def __init__(self):\n",
    "        self.head = None\n",
    "        self.tail = None\n",
    "    \n",
    "    def insert(self, data):\n",
    "        if (self.head == None):  # To imply that if head == None\n",
    "            self.head = Node(data)\n",
    "            self.tail = self.head\n",
    "        else:\n",
    "            current = self.head\n",
    "            while(current.next != None):\n",
    "                current = current.next\n",
    "            current.next = Node(data, None, current)\n",
    "            self.tail = current.next\n",
    "\n",
    "    def delete(self, data):\n",
    "        current = self.head\n",
    "        # If given item is the first element of the linked list\n",
    "        if current.data == data:\n",
    "            self.head = current.next\n",
    "            self.head.prev = None\n",
    "            return True\n",
    "        \n",
    "        # In case the linked list is empty\n",
    "        if current == None:\n",
    "            return False\n",
    "\n",
    "        # If the element is at the last\n",
    "        if self.tail == data:\n",
    "            self.tail = self.tail.prev\n",
    "            self.tail.next = None\n",
    "            return True\n",
    "\n",
    "        # If the element is absent or in the middle of the linked list\n",
    "        while current != None:\n",
    "            if current.data == data :\n",
    "                current.prev.next = current.next\n",
    "                current.next.prev = current.prev\n",
    "                return True\n",
    "            current = current.next\n",
    "     \n",
    "        # The element is absent\n",
    "        return False\n",
    "\t\n",
    "    def insertAtBeginning(self, data):\n",
    "        newNode = Node(data, None, None)\n",
    "        if (self.head == None):  # To imply that if head == None\n",
    "            self.head = self.tail = newNode\n",
    "        else:\n",
    "            newNode.setPrev(None)\n",
    "            newNode.set_next(self.head)\n",
    "            self.head.setPrev(newNode)\n",
    "            self.head = newNode\n",
    "\n",
    "    def insertAtEnd(self, data):\n",
    "        if(self.head is None):\n",
    "            self.head=Node(data)\n",
    "            self.tail= self.head\n",
    "        else:\n",
    "            current=self.head\n",
    "            while current.get_next()!= None:\n",
    "                current = current.get_next()\n",
    "            current.set_next(Node(data, None,current))\n",
    "            self.tail = current.get_next()\n",
    "\n",
    "    def getNode(self, index):\n",
    "        currentNode = self.head\n",
    "        if currentNode == None:\n",
    "            return None\n",
    "        i = 0\n",
    "        while i < index and currentNode.get_next() is not None:\n",
    "            currentNode = currentNode.get_next()\n",
    "            if currentNode == None:\n",
    "                break\n",
    "            i += 1\n",
    "        return currentNode\n",
    "    \n",
    "    def insertAtGivenPosition(self, index, data):\n",
    "        newNode = Node(data)\n",
    "        if self.head == None or index == 0:\n",
    "            self.insertAtBeginning(data)\n",
    "        elif index > 0:\n",
    "            temp = self.getNode(index) \n",
    "            if temp == None or temp.get_next() == None:\t\n",
    "                self.insert(data)\n",
    "            else:\n",
    "                newNode.set_next(temp.get_next())\n",
    "                newNode.setPrev(temp)\n",
    "                temp.get_next().setPrev(newNode)\n",
    "                temp.set_next(newNode)\n",
    "                \n",
    "    def find(self, data):\n",
    "        current = self.head\n",
    "        while current != None:\n",
    "            if current.data == data :\n",
    "                return True\n",
    "            current = current.next\n",
    "        return False\n",
    "\n",
    "    def fwd_print(self):\n",
    "        current = self.head\n",
    "        if current == None:\n",
    "            print(\"No elements\")\n",
    "            return False\n",
    "        while (current != None):\n",
    "            print (current.data) \n",
    "            current = current.next\n",
    "        return True\n",
    "\n",
    "    def rev_print(self):\n",
    "        current = self.tail\n",
    "        if (self.tail == None):\n",
    "            print(\"No elements\")\n",
    "            return False\n",
    "\n",
    "        while (current != None):\n",
    "            print (current.data)\n",
    "            current = current.prev\n",
    "        return True\n",
    "\n",
    "    def print_list(self):\n",
    "        nodeList = []\n",
    "        currentnode = self.head\n",
    "        while currentnode != None:\n",
    "            nodeList.append(currentnode.data)\n",
    "            currentnode = currentnode.next \n",
    "             \n",
    "        print(nodeList) \n",
    "        \n",
    "\n",
    "l = DoubleLinkedList()\n",
    "\n",
    "# Inserting Values\n",
    "l.insert(1)\n",
    "l.insert(2)\n",
    "l.insert(3)\n",
    "l.insert(4)\n",
    "\n",
    "# Forward Print\n",
    "l.fwd_print()\n",
    "\n",
    "   "
   ]
  },
  {
   "cell_type": "code",
   "execution_count": 18,
   "metadata": {},
   "outputs": [
    {
     "name": "stdout",
     "output_type": "stream",
     "text": [
      "4\n",
      "3\n",
      "2\n",
      "1\n"
     ]
    },
    {
     "data": {
      "text/plain": [
       "True"
      ]
     },
     "execution_count": 18,
     "metadata": {},
     "output_type": "execute_result"
    }
   ],
   "source": [
    " # Reverse Print\n",
    "l.rev_print()\n",
    "\n",
    "   "
   ]
  },
  {
   "cell_type": "code",
   "execution_count": 19,
   "metadata": {},
   "outputs": [
    {
     "name": "stdout",
     "output_type": "stream",
     "text": [
      "Found\n"
     ]
    }
   ],
   "source": [
    " # Try to find 3 in the list\n",
    "if (l.find(3)):\n",
    "    print(\"Found\")\n",
    "else :\n",
    "    print(\"Not found\")\n",
    "\n"
   ]
  },
  {
   "cell_type": "code",
   "execution_count": 20,
   "metadata": {},
   "outputs": [
    {
     "name": "stdout",
     "output_type": "stream",
     "text": [
      "1\n",
      "2\n",
      "4\n",
      "print list in reverse order:\n",
      "4\n",
      "2\n",
      "1\n"
     ]
    },
    {
     "data": {
      "text/plain": [
       "True"
      ]
     },
     "execution_count": 20,
     "metadata": {},
     "output_type": "execute_result"
    }
   ],
   "source": [
    "\n",
    "# Delete 3 from the list\n",
    "l.delete(3)\n",
    "\n",
    "# Forward Print\n",
    "l.fwd_print()\n",
    "print(\"print list in reverse order:\")\n",
    "\n",
    "# Reverse Print\n",
    "l.rev_print()\n",
    "\n"
   ]
  },
  {
   "cell_type": "code",
   "execution_count": 21,
   "metadata": {},
   "outputs": [
    {
     "name": "stdout",
     "output_type": "stream",
     "text": [
      "Not found\n"
     ]
    }
   ],
   "source": [
    "# Now if we find 3, we will not get it in the list\n",
    "if (l.find(3)):\n",
    "    print(\"Found\")\n",
    "else :\n",
    "    print(\"Not found\")"
   ]
  },
  {
   "cell_type": "code",
   "execution_count": 12,
   "metadata": {},
   "outputs": [
    {
     "name": "stdout",
     "output_type": "stream",
     "text": [
      "[1, 2, 4]\n"
     ]
    }
   ],
   "source": [
    "l.print_list()"
   ]
  },
  {
   "cell_type": "code",
   "execution_count": 22,
   "metadata": {},
   "outputs": [
    {
     "name": "stdout",
     "output_type": "stream",
     "text": [
      "After insert 6 at the end of the linked list is\n",
      "[1, 2, 4, 6]\n"
     ]
    }
   ],
   "source": [
    "l.insertAtEnd(6)\n",
    "print('After insert 6 at the end of the linked list is')\n",
    "l.print_list()"
   ]
  },
  {
   "cell_type": "code",
   "execution_count": null,
   "metadata": {
    "collapsed": true
   },
   "outputs": [],
   "source": []
  }
 ],
 "metadata": {
  "kernelspec": {
   "display_name": "Python 3",
   "language": "python",
   "name": "python3"
  },
  "language_info": {
   "codemirror_mode": {
    "name": "ipython",
    "version": 3
   },
   "file_extension": ".py",
   "mimetype": "text/x-python",
   "name": "python",
   "nbconvert_exporter": "python",
   "pygments_lexer": "ipython3",
   "version": "3.6.3"
  }
 },
 "nbformat": 4,
 "nbformat_minor": 2
}
