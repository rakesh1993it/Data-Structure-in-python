{
 "cells": [
  {
   "cell_type": "markdown",
   "metadata": {},
   "source": [
    "# Find Lowest Common Ancestor in a Binary Tree\n",
    "\n",
    "The Lowest Common Ancestor between two nodes n1 and n2 is define as the lowest node  in the Tree that has \n",
    "both n1 and n2 as descendent.\n",
    "\n",
    "Time Complexcity : O(n).\n",
    "\n",
    "Example.\n",
    "\n",
    "LCA of 10 and 14 is 12\n",
    "\n",
    "LCA of 14 and 8 is 8\n",
    "\n",
    "LCA of 10 and 22 is 20"
   ]
  },
  {
   "cell_type": "markdown",
   "metadata": {},
   "source": [
    "# class Node:\n",
    "    \n",
    "    def __init__(self, data):\n",
    "        self.data = data\n",
    "        self.left = None\n",
    "        self.right = None\n",
    "        \n",
    "def lca_of_bst(root, n1, n2):\n",
    "    if root is None:\n",
    "        return None\n",
    "    \n",
    "    if root.data > n1 and root.data > n2 :\n",
    "        return lca_of_bst(root.left, n1, n2)\n",
    "    \n",
    "    if root.data < n2 and root.data < n2:\n",
    "        return lca_of_bst(root.right, n1, n2)\n",
    "    \n",
    "    return root\n",
    "\n",
    "root = Node(20)\n",
    "root.left = Node(8)\n",
    "root.right = Node(22)\n",
    "root.left.left = Node(4)\n",
    "root.left.right = Node(12)\n",
    "root.left.right.left = Node(10)\n",
    "root.left.right.right = Node(14)\n",
    " \n",
    "n1 = 10 ; n2 = 14\n",
    "t = lca_of_bst(root, n1, n2)\n",
    "print (\"LCA of %d and %d is %d\" %(n1, n2, t.data))\n",
    " \n",
    "\n",
    "        \n",
    "        \n",
    "    "
   ]
  },
  {
   "cell_type": "code",
   "execution_count": null,
   "metadata": {
    "collapsed": true
   },
   "outputs": [],
   "source": []
  }
 ],
 "metadata": {
  "kernelspec": {
   "display_name": "Python 3",
   "language": "python",
   "name": "python3"
  },
  "language_info": {
   "codemirror_mode": {
    "name": "ipython",
    "version": 3
   },
   "file_extension": ".py",
   "mimetype": "text/x-python",
   "name": "python",
   "nbconvert_exporter": "python",
   "pygments_lexer": "ipython3",
   "version": "3.6.3"
  }
 },
 "nbformat": 4,
 "nbformat_minor": 2
}
