{
 "cells": [
  {
   "cell_type": "markdown",
   "metadata": {},
   "source": [
    "Calculate size of the tree"
   ]
  },
  {
   "cell_type": "code",
   "execution_count": null,
   "metadata": {
    "collapsed": true
   },
   "outputs": [],
   "source": [
    "Size of a tree is the number of elements present in the tree.\n",
    "\n",
    "Size of a tree = Size of left subtree + 1 + Size of right subtree.\n",
    "\n",
    "ALGO:\n",
    "    1. If tree is empty then return 0\n",
    "    2. Else\n",
    "        a. Get the size of left subtree recursively\n",
    "          i.e -> call size(tree->left subtree)\n",
    "            \n",
    "        b. Get the size of right subtree recursively\n",
    "          i.e -> call size(tree->right tree)\n",
    "            \n",
    "        c. calculate size of the tree as following:\n",
    "              tree size = size(left->subtree) + size(right->subtree) + 1\n",
    "                \n",
    "        d. return true\n",
    "    \n",
    "    \n",
    "    Time C"
   ]
  },
  {
   "cell_type": "code",
   "execution_count": 5,
   "metadata": {},
   "outputs": [
    {
     "name": "stdout",
     "output_type": "stream",
     "text": [
      "Size of the tree is 5\n"
     ]
    }
   ],
   "source": [
    "class Node:\n",
    "    \n",
    "    def __init__(self, key):\n",
    "        self.key = key\n",
    "        self.left = None\n",
    "        self.right = None\n",
    "        \n",
    "def sizeOfTree(node):\n",
    "    \n",
    "    if node is None:\n",
    "        return 0\n",
    "    \n",
    "    else:\n",
    "        return (sizeOfTree(node.left) + 1 + sizeOfTree(node.right))\n",
    "    \n",
    "root = Node(1)\n",
    "root.left = Node(2)\n",
    "root.right = Node(3)\n",
    "root.left.left = Node(4)\n",
    "root.right.right = Node(5)\n",
    "\n",
    "print(\"Size of the tree is %d\" %(sizeOfTree(root)))"
   ]
  },
  {
   "cell_type": "code",
   "execution_count": null,
   "metadata": {
    "collapsed": true
   },
   "outputs": [],
   "source": []
  }
 ],
 "metadata": {
  "kernelspec": {
   "display_name": "Python 3",
   "language": "python",
   "name": "python3"
  },
  "language_info": {
   "codemirror_mode": {
    "name": "ipython",
    "version": 3
   },
   "file_extension": ".py",
   "mimetype": "text/x-python",
   "name": "python",
   "nbconvert_exporter": "python",
   "pygments_lexer": "ipython3",
   "version": "3.6.3"
  }
 },
 "nbformat": 4,
 "nbformat_minor": 2
}
