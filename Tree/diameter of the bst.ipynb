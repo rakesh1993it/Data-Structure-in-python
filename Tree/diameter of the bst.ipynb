{
 "cells": [
  {
   "attachments": {},
   "cell_type": "markdown",
   "metadata": {},
   "source": [
    "# Diameter of a Binary Tree\n",
    "\n",
    "The diameter of a tree (sometimes called the width) is the number of nodes on the longest path between two end nodes\n",
    "\n",
    "The function is O(n), no matter the shape of the tree. The original function is O(n^2) in the worst case when the \n",
    "tree is very unbalanced because of the repeated height calculations."
   ]
  },
  {
   "cell_type": "code",
   "execution_count": 15,
   "metadata": {},
   "outputs": [
    {
     "name": "stdout",
     "output_type": "stream",
     "text": [
      "Diameter of given binary tree is 4\n"
     ]
    }
   ],
   "source": [
    "class Node:\n",
    "\n",
    "    def __init__(self, data):\n",
    "        self.data = data\n",
    "        self.left = None\n",
    "        self.right = None\n",
    "\n",
    "        \n",
    "# returns the diameter and the height of the tree        \n",
    "def diameter_height(node):\n",
    "    if node is None:\n",
    "        return 0, 0\n",
    "    \n",
    "    \n",
    "    l_diameter, l_height = diameter_height(node.left)\n",
    "    r_diameter, r_height = diameter_height(node.right)\n",
    "    \n",
    "    return max(l_height + r_height + 1, l_diameter, r_diameter), 1 + max(l_height, r_height)\n",
    "\n",
    "#  this function is just compute the diameter (by discarding the height).\n",
    "def find_tree_diameter(node):\n",
    "    d, _ = diameter_height(node)\n",
    "    return d\n",
    "\n",
    "root = Node(1)\n",
    "root.left = Node(2)\n",
    "root.right = Node(3)\n",
    "root.left.left = Node(4)\n",
    "root.left.right = Node(5)\n",
    "\n",
    "print (\"Diameter of given binary tree is %d\" %(find_tree_diameter(root)))"
   ]
  },
  {
   "cell_type": "code",
   "execution_count": null,
   "metadata": {},
   "outputs": [],
   "source": []
  },
  {
   "cell_type": "code",
   "execution_count": 13,
   "metadata": {},
   "outputs": [
    {
     "name": "stdout",
     "output_type": "stream",
     "text": [
      "Diameter of given binary tree is 3\n"
     ]
    }
   ],
   "source": [
    "class Node:\n",
    "\n",
    "    def __init__(self, data):\n",
    "        self.data = data\n",
    "        self.left = None\n",
    "        self.right = None\n",
    "\n",
    "        \n",
    "# returns the diameter and the height of the tree        \n",
    "def diameter_height(node):\n",
    "    if node is None:\n",
    "        return 0, 0\n",
    "    \n",
    "    \n",
    "    l_diameter, l_height = diameter_height(node.left)\n",
    "    r_diameter, r_height = diameter_height(node.right)\n",
    "    \n",
    "    return max(l_height + r_height + 1, l_diameter, r_diameter), 1 + max(l_height, r_height)\n",
    "\n",
    "#  this function is just compute the diameter (by discarding the height).\n",
    "def find_tree_height(node):\n",
    "    _, h= diameter_height(node)\n",
    "    return h\n",
    "\n",
    "root = Node(1)\n",
    "root.left = Node(2)\n",
    "root.right = Node(3)\n",
    "root.left.left = Node(4)\n",
    "root.left.right = Node(5)\n",
    "\n",
    "print (\"Diameter of given binary tree is %d\" %(find_tree_height(root)))"
   ]
  },
  {
   "cell_type": "code",
   "execution_count": null,
   "metadata": {
    "collapsed": true
   },
   "outputs": [],
   "source": []
  }
 ],
 "metadata": {
  "kernelspec": {
   "display_name": "Python 3",
   "language": "python",
   "name": "python3"
  },
  "language_info": {
   "codemirror_mode": {
    "name": "ipython",
    "version": 3
   },
   "file_extension": ".py",
   "mimetype": "text/x-python",
   "name": "python",
   "nbconvert_exporter": "python",
   "pygments_lexer": "ipython3",
   "version": "3.6.3"
  }
 },
 "nbformat": 4,
 "nbformat_minor": 2
}
