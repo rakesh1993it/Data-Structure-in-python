{
 "cells": [
  {
   "cell_type": "markdown",
   "metadata": {},
   "source": [
    "Count half nodes in a Binary tree (Iterative method)"
   ]
  },
  {
   "cell_type": "markdown",
   "metadata": {},
   "source": [
    "Half node is one which has only one child of the tree.\n",
    "\n",
    "Algo:\n",
    "    1.Create an empty queue Node and push the root node to the Queue\n",
    "    2. Repeat the steps while root is not empty:\n",
    "        a. Pop an item from queue and continue.\n",
    "          a.1> If it half node then increment count++\n",
    "            \n",
    "        b. Push left child of the poped item to the queue if it is available.\n",
    "        c. Push right child of the poped item to the queue if it is available.\n",
    "        \n",
    "\n",
    "Time Complexity: O(n).\n",
    "        "
   ]
  },
  {
   "cell_type": "code",
   "execution_count": 7,
   "metadata": {},
   "outputs": [
    {
     "name": "stdout",
     "output_type": "stream",
     "text": [
      "Count of half node 3:\n"
     ]
    }
   ],
   "source": [
    "class Node:\n",
    "    def __init__(self, data):\n",
    "        self.left = None\n",
    "        self.right = None\n",
    "        self.data = data\n",
    "        \n",
    "def getHalfCount(root):\n",
    "    if root is None:\n",
    "        return 0\n",
    "    \n",
    "    queue =[]\n",
    "    \n",
    "    queue.append(root)\n",
    "    count = 0\n",
    "    \n",
    "    while(len(queue)>0):\n",
    "        node = queue.pop(0)\n",
    "        \n",
    "        if node.left is not None and node.right is None or node.left is None and node.right is not None:\n",
    "            count = count + 1\n",
    "            \n",
    "        if node.left is not None:\n",
    "            queue.append(node.left)\n",
    "            \n",
    "        if node.right is not None:\n",
    "            queue.append(node.right)\n",
    "            \n",
    "    return count\n",
    "\n",
    "\n",
    "root = Node(2)\n",
    "root.left = Node(7)\n",
    "root.right = Node(5)\n",
    "root.left.right = Node(6)\n",
    "root.right.right = Node(9)\n",
    "root.left.right.left = Node(1)\n",
    "root.left.right.right = Node(11)\n",
    "root.right.right.left = Node(4)\n",
    "\n",
    "\n",
    "print(\"Count of half node %d:\" %(getHalfCount(root)))\n"
   ]
  },
  {
   "cell_type": "code",
   "execution_count": null,
   "metadata": {
    "collapsed": true
   },
   "outputs": [],
   "source": []
  }
 ],
 "metadata": {
  "kernelspec": {
   "display_name": "Python 3",
   "language": "python",
   "name": "python3"
  },
  "language_info": {
   "codemirror_mode": {
    "name": "ipython",
    "version": 3
   },
   "file_extension": ".py",
   "mimetype": "text/x-python",
   "name": "python",
   "nbconvert_exporter": "python",
   "pygments_lexer": "ipython3",
   "version": "3.6.3"
  }
 },
 "nbformat": 4,
 "nbformat_minor": 2
}
