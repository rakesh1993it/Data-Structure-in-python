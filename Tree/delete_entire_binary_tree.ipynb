{
 "cells": [
  {
   "cell_type": "markdown",
   "metadata": {},
   "source": [
    "Dlete entire binary tree in non recursive method.\n",
    "\n",
    "For delete the entire binary tree we use leve order traversal approch.\n",
    "\n",
    "Algo:\n",
    "    \n",
    "    1.Create an empty  Queue Node and push root node into the queue.\n",
    "    \n",
    "    2. repeat the steps while nodeQueue is not  empty.\n",
    "      a.popan item from Queue.\n",
    "      \n",
    "      b. push left child of the poped item to Queue, if available.\n",
    "      c.push right child of the poped item to Queue, if available.\n",
    "      d.Free the memory of the node which was poped in point a."
   ]
  },
  {
   "cell_type": "code",
   "execution_count": 12,
   "metadata": {},
   "outputs": [
    {
     "name": "stdout",
     "output_type": "stream",
     "text": [
      "Your Tree is empty \n"
     ]
    }
   ],
   "source": [
    "class Node:\n",
    "    \n",
    "    def __init__(self, data):\n",
    "        self.data = data \n",
    "        self.left = None\n",
    "        self.right = None\n",
    "        \n",
    "        \n",
    "def deleteEntireTree(root):\n",
    "     \n",
    "    # Base Case\n",
    "    if root is None:\n",
    "        return\n",
    " \n",
    "    q = []\n",
    " \n",
    "    q.append(root)\n",
    "    while(len(q)>0):\n",
    "        node = q.pop(0)\n",
    "     \n",
    "        if node.left is not None:\n",
    "            q.append(node.left)\n",
    " \n",
    "        if node.right is not None:\n",
    "            q.append(node.right)\n",
    " \n",
    "        node = None\n",
    "    return node\n",
    "\n",
    "def deleteTree(node_ref):\n",
    "    node_ref = deleteEntireTree(node_ref)\n",
    "    return node_ref\n",
    "\n",
    "root = Node(15)\n",
    "root.left = Node(10)\n",
    "root.right = Node(20)\n",
    "root.left.left = Node(8)\n",
    "root.left.right = Node(12)\n",
    "root.right.left = Node(16)\n",
    "root.right.right = Node(25)\n",
    " \n",
    "# delete entire binary tree\n",
    "root = deleteTree(root)\n",
    "if root is None:\n",
    "    print ('Your Tree is empty ')"
   ]
  },
  {
   "cell_type": "code",
   "execution_count": null,
   "metadata": {
    "collapsed": true
   },
   "outputs": [],
   "source": []
  },
  {
   "cell_type": "code",
   "execution_count": null,
   "metadata": {
    "collapsed": true
   },
   "outputs": [],
   "source": []
  }
 ],
 "metadata": {
  "kernelspec": {
   "display_name": "Python 3",
   "language": "python",
   "name": "python3"
  },
  "language_info": {
   "codemirror_mode": {
    "name": "ipython",
    "version": 3
   },
   "file_extension": ".py",
   "mimetype": "text/x-python",
   "name": "python",
   "nbconvert_exporter": "python",
   "pygments_lexer": "ipython3",
   "version": "3.6.3"
  }
 },
 "nbformat": 4,
 "nbformat_minor": 2
}
