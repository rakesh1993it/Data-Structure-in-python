{
 "cells": [
  {
   "cell_type": "markdown",
   "metadata": {},
   "source": [
    "# Level Order Tree Traversal of BST\n",
    "\n",
    "Implementation: using Queueu\n",
    "\n",
    "Algorithm:\n",
    "    \n",
    "printLevelorder(tree)\n",
    "1) Create an empty queue q\n",
    "2) temp_node = root /*start from root*/\n",
    "3) Loop while temp_node is not NULL\n",
    "    a) print temp_node->data.\n",
    "    b) Enqueue temp_node’s children (first left then right children) to q\n",
    "    c) Dequeue a node from q and assign it’s value to temp_node"
   ]
  },
  {
   "cell_type": "code",
   "execution_count": 1,
   "metadata": {},
   "outputs": [
    {
     "name": "stdout",
     "output_type": "stream",
     "text": [
      "Print the Level Order tree.\n",
      "10\n",
      "20\n",
      "30\n",
      "40\n",
      "50\n",
      "60\n",
      "70\n"
     ]
    }
   ],
   "source": [
    "class Node:\n",
    "    \n",
    "    def __init__(self, key):\n",
    "        self.left_child = None\n",
    "        self.right_child = None\n",
    "        self.key = key\n",
    "        \n",
    "def printLevelOrder(root):\n",
    "    if root is None:\n",
    "        return root\n",
    "    \n",
    "    queue = []\n",
    "    queue.append(root)\n",
    "    \n",
    "    while(len(queue) > 0):\n",
    "        print(queue[0].key)\n",
    "        node = queue.pop(0)\n",
    "        \n",
    "        if node.left_child is not None:\n",
    "            queue.append(node.left_child)\n",
    "            \n",
    "        if node.right_child is not None:\n",
    "            queue.append(node.right_child)\n",
    "            \n",
    "            \n",
    "root = Node(10)\n",
    "root.left_child = Node(20)\n",
    "root.right_child = Node(30)\n",
    "root.left_child.left_child = Node(40)\n",
    "root.left_child.right_child = Node(50)\n",
    "root.right_child.left_child = Node(60)\n",
    "root.right_child.right_child = Node(70)\n",
    "\n",
    "\n",
    "\n",
    "print(\"Print the Level Order tree.\")\n",
    "printLevelOrder(root)"
   ]
  },
  {
   "cell_type": "code",
   "execution_count": null,
   "metadata": {
    "collapsed": true
   },
   "outputs": [],
   "source": []
  }
 ],
 "metadata": {
  "kernelspec": {
   "display_name": "Python 3",
   "language": "python",
   "name": "python3"
  },
  "language_info": {
   "codemirror_mode": {
    "name": "ipython",
    "version": 3
   },
   "file_extension": ".py",
   "mimetype": "text/x-python",
   "name": "python",
   "nbconvert_exporter": "python",
   "pygments_lexer": "ipython3",
   "version": "3.6.3"
  }
 },
 "nbformat": 4,
 "nbformat_minor": 2
}
