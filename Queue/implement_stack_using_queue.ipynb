{
 "cells": [
  {
   "cell_type": "markdown",
   "metadata": {},
   "source": [
    "# implement stack using queue"
   ]
  },
  {
   "cell_type": "code",
   "execution_count": 17,
   "metadata": {},
   "outputs": [],
   "source": [
    "class Queue(object):\n",
    "    def __init__(self):\n",
    "        self.queue = []\n",
    "        \n",
    "    def isEmpty(self):\n",
    "        return self.queue == []\n",
    "        \n",
    "    def enQueue(self,x):\n",
    "        self.queue.append(x)\n",
    "            \n",
    "    def deQueue(self):\n",
    "        if self.queue:\n",
    "            a = self.queue[0]\n",
    "            self.queue.remove(a)\n",
    "            return a\n",
    "        \n",
    "        else:\n",
    "            raise IndexError('Queue is Empty.')\n",
    "                \n",
    "    def size(self):\n",
    "        return len(self.queue)\n",
    "        \n",
    "\n",
    "class Stack(object):\n",
    "    def __init__(self):\n",
    "        self.Q1 = Queue()\n",
    "        self.Q2 = Queue()\n",
    "        \n",
    "    def isEmpty(self):\n",
    "        return self.Q1.isEmpty() and self.Q2.isEmpty()\n",
    "    \n",
    "    def push(self, item):\n",
    "        if self.Q2.isEmpty():\n",
    "            self.Q1.enQueue(item)\n",
    "            \n",
    "        else:\n",
    "            self.Q2.enQueue(item)\n",
    "            \n",
    "    def pop(self):\n",
    "        if self.isEmpty():\n",
    "            raise IndexError('Stack is empty')\n",
    "            \n",
    "        elif self.Q2.isEmpty():\n",
    "            while not self.Q1.isEmpty():\n",
    "                cur = self.Q1.deQueue()\n",
    "                \n",
    "                if self.Q1.isEmpty():\n",
    "                    return cur\n",
    "                \n",
    "                self.Q2.enQueue(cur)\n",
    "                \n",
    "        else:\n",
    "            \n",
    "            while not self.Q2.isEmpty():\n",
    "                cur = self.Q2.deQueue()\n",
    "                \n",
    "                if self.Q2.isEmpty():\n",
    "                    return cur\n",
    "                \n",
    "                self.Q1.enQueue(cur)\n",
    "                \n",
    "                \n",
    "stk = Stack()\n",
    "\n",
    "for i in range(5):\n",
    "    stk.push(i)\n",
    "    \n",
    "    \n",
    "for i in range(5):\n",
    "    stk.pop()\n",
    "   \n",
    "                "
   ]
  },
  {
   "cell_type": "code",
   "execution_count": null,
   "metadata": {
    "collapsed": true
   },
   "outputs": [],
   "source": []
  }
 ],
 "metadata": {
  "kernelspec": {
   "display_name": "Python 3",
   "language": "python",
   "name": "python3"
  },
  "language_info": {
   "codemirror_mode": {
    "name": "ipython",
    "version": 3
   },
   "file_extension": ".py",
   "mimetype": "text/x-python",
   "name": "python",
   "nbconvert_exporter": "python",
   "pygments_lexer": "ipython3",
   "version": "3.6.3"
  }
 },
 "nbformat": 4,
 "nbformat_minor": 2
}
