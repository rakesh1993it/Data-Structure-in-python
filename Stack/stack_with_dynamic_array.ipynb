{
 "cells": [
  {
   "cell_type": "code",
   "execution_count": null,
   "metadata": {},
   "outputs": [],
   "source": []
  },
  {
   "cell_type": "markdown",
   "metadata": {
    "collapsed": true
   },
   "source": [
    "# Dynamic Array Implementation\n",
    "\n",
    "First, let's consider h ow we im plemen ted a simple array based slack. We Look one index vuriable top which\n",
    "points lo the index of lhc mosl rcccnlly inserted clement in the stack. To insert (or push) an element, we\n",
    "increment top index and then place the new clement ut that index.\n",
    "Similarly, to delete (or pop) an clement we take the clement at top index ond then decrement the top index. We\n",
    "represent an empty queue with top value equal to - 1. The issue that slill needs Lo be resolved is what we do\n",
    "when all the slots in the fixed size array stack arc occupied?\n",
    "First try: Whal if we increment the s ize of the a rray by l every lime the s tack is full?\n",
    "\n",
    "\n",
    "Push(): increase size of Sil by l\n",
    "Pop(): decrease si;-.c of SIJ by I\n",
    "\n",
    "Problems with this approach?\n",
    "This way of incrementing the array :;i;-..c is too cxpcnsivc. Let us see the reason for this. f\"or example, at n = I , w\n",
    "push nn element creole a new army of si;-,c 2 and copy u ll the old array elements to the n ew nrray, and at I he\n",
    "end add Lhe new c lement. At 11 - 2, to push an c lement c r<.:ate a n<.:w arrny of size 3 and copy all the old array\n",
    "elem ents to the new array, and al the end add the new elemenl.\n",
    "\n",
    "Similarly, al 11\n",
    "\n",
    "n - 1, if we want to push an clement create a new array of size 11 and copy all the old array\n",
    "elements lo the new array and ut the end add the new clement. After n push operations the total time T(11)\n",
    "(number of copy operations) is proportional to 1 + 2 + ... -I n ,,,Q(n 2 )."
   ]
  },
  {
   "cell_type": "code",
   "execution_count": 8,
   "metadata": {},
   "outputs": [
    {
     "name": "stdout",
     "output_type": "stream",
     "text": [
      "Stack after push [None, None, None, None, None, ' 1']\n",
      "Stack after push [None, None, None, None, None, ' 1', '21']\n",
      "Stack after push [None, None, None, None, None, ' 1', '21', ' 14']\n",
      "Stack after push [None, None, None, None, None, ' 1', '21', ' 14', ' 11']\n",
      "Stack after push [None, None, None, None, None, ' 1', '21', ' 14', ' 11', '31 ']\n",
      "Stack after push [None, None, None, None, None, ' 1', '21', ' 14', ' 11', '31 ', ' 14']\n",
      "Stack after push [None, None, None, None, None, ' 1', '21', ' 14', ' 11', '31 ', ' 14', ' 15']\n",
      "Stack after push [None, None, None, None, None, ' 1', '21', ' 14', ' 11', '31 ', ' 14', ' 15', ' 19']\n",
      "Stack after push [None, None, None, None, None, ' 1', '21', ' 14', ' 11', '31 ', ' 14', ' 15', ' 19', '3']\n",
      "Stack after push [None, None, None, None, None, ' 1', '21', ' 14', ' 11', '31 ', ' 14', ' 15', ' 19', '3', '99']\n",
      "Stack after push [None, None, None, None, None, ' 1', '21', ' 14', ' 11', '31 ', ' 14', ' 15', ' 19', '3', '99', '9']\n",
      "9\n",
      "9\n",
      "99\n",
      "99\n"
     ]
    }
   ],
   "source": [
    "class Stack(object):\n",
    "    def __init__(self, limit = 10):\n",
    "        self.stk = limit*[None]\n",
    "        self.limit = limit\n",
    "        \n",
    "    def isEmpty(self):\n",
    "        return len(self.stk) <= 0\n",
    "    \n",
    "    def push(self, item):\n",
    "        if len(self.stk) >= self.limit:\n",
    "            self.resize()\n",
    "            \n",
    "        self.stk.append(item)\n",
    "        print ('Stack after push', self.stk)\n",
    "        \n",
    "    def pop(self):\n",
    "        if len(self.stk) <= 0:\n",
    "            print('stack is Underflow')\n",
    "            return 0\n",
    "        else:\n",
    "            return self.stk.pop()\n",
    "            \n",
    "    def peek(self):\n",
    "        if len(self.stk) <= 0:\n",
    "            print ('Stack is underflow')\n",
    "            return 0\n",
    "        \n",
    "        else: \n",
    "            return self.stk[-1]\n",
    "        \n",
    "    def size(self):\n",
    "        return len(self.stk)\n",
    "    \n",
    "    def resize(self):\n",
    "        newStk = list(self.stk)\n",
    "        self.limit = 2*self.limit\n",
    "        self.stk = newStk\n",
    " \n",
    "\n",
    "our_stack = Stack(5)\n",
    "our_stack.push(\" 1\")\n",
    "our_stack.push(\"21\")\n",
    "our_stack.push(\" 14\")\n",
    "our_stack.push(\" 11\")\n",
    "our_stack. push(\"31 \")\n",
    "our_stack.push(\" 14\")\n",
    "our_stack. push(\" 15\")\n",
    "our_stack. push(\" 19\")\n",
    "our_stack.push(\"3\")\n",
    "our_stack.push(\"99\")\n",
    "our_stack.push(\"9\")\n",
    "print(our_stack.peek())\n",
    "print(our_stack.pop())\n",
    "print (our_stack.peek())\n",
    "print (our_stack.pop())"
   ]
  },
  {
   "cell_type": "code",
   "execution_count": null,
   "metadata": {
    "collapsed": true
   },
   "outputs": [],
   "source": []
  }
 ],
 "metadata": {
  "kernelspec": {
   "display_name": "Python 3",
   "language": "python",
   "name": "python3"
  },
  "language_info": {
   "codemirror_mode": {
    "name": "ipython",
    "version": 3
   },
   "file_extension": ".py",
   "mimetype": "text/x-python",
   "name": "python",
   "nbconvert_exporter": "python",
   "pygments_lexer": "ipython3",
   "version": "3.6.3"
  }
 },
 "nbformat": 4,
 "nbformat_minor": 2
}
