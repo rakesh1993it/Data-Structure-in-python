{
 "cells": [
  {
   "cell_type": "markdown",
   "metadata": {},
   "source": [
    "# stack with Linked List"
   ]
  },
  {
   "cell_type": "code",
   "execution_count": 16,
   "metadata": {},
   "outputs": [
    {
     "name": "stdout",
     "output_type": "stream",
     "text": [
      "fourth\n",
      "third\n",
      "third\n",
      "second\n",
      "second\n"
     ]
    }
   ],
   "source": [
    "class Node:\n",
    "    def __init__(self):\n",
    "        self.data = None\n",
    "        self.next = None\n",
    "        \n",
    "    def setData(self,data):\n",
    "        self.data = data\n",
    "        \n",
    "        \n",
    "    def getData(self):\n",
    "        return self.data\n",
    "    \n",
    "    def setNext(self,next):\n",
    "        self.next =next\n",
    "        \n",
    "    def getNext(self):\n",
    "        return self.next\n",
    "    \n",
    "    def hasNext(self):\n",
    "        return self.next != None\n",
    "    \n",
    "    \n",
    "class Stack(object):\n",
    "    \n",
    "    def __init__(self, data = None):\n",
    "        self.head = None\n",
    "        if data:\n",
    "            for data in data:\n",
    "                self.push(data)\n",
    "                \n",
    "    def push(self, data):\n",
    "        temp = Node()\n",
    "        temp.setData(data)\n",
    "        temp.setNext(self.head)\n",
    "        self.head = temp\n",
    "    \n",
    "    def pop(self):\n",
    "        if self.head is None:\n",
    "            raise IndexError\n",
    "        temp = self.head.getData()\n",
    "        self.head = self.head.getNext()\n",
    "        return temp\n",
    "  \n",
    "       \n",
    "    \n",
    "    def peek(self):\n",
    "        if self.head is None:\n",
    "            raise IndexError            \n",
    "        return self.head.getData()\n",
    "    \n",
    "our_list = [\"first\", \"second\", \"third\", \"fourth\"]\n",
    "our_stack = Stack(our_list)\n",
    "print (our_stack.pop())\n",
    "print (our_stack.peek())\n",
    "print (our_stack.pop())\n",
    "print (our_stack.peek())\n",
    "print (our_stack.pop())\n",
    "        \n",
    "        "
   ]
  },
  {
   "cell_type": "code",
   "execution_count": null,
   "metadata": {
    "collapsed": true
   },
   "outputs": [],
   "source": []
  }
 ],
 "metadata": {
  "kernelspec": {
   "display_name": "Python 3",
   "language": "python",
   "name": "python3"
  },
  "language_info": {
   "codemirror_mode": {
    "name": "ipython",
    "version": 3
   },
   "file_extension": ".py",
   "mimetype": "text/x-python",
   "name": "python",
   "nbconvert_exporter": "python",
   "pygments_lexer": "ipython3",
   "version": "3.6.3"
  }
 },
 "nbformat": 4,
 "nbformat_minor": 2
}
