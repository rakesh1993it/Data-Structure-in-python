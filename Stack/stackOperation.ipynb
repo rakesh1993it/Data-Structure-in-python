{
 "cells": [
  {
   "cell_type": "code",
   "execution_count": 1,
   "metadata": {},
   "outputs": [
    {
     "name": "stdout",
     "output_type": "stream",
     "text": [
      "Stack after push ['1']\n",
      "Stack after push ['1', '21']\n",
      "Stack after push ['1', '21', '16']\n",
      "Stack after push ['1', '21', '16', '11']\n",
      "Stack after push ['1', '21', '16', '11', '9']\n",
      "Stack is Overflow\n",
      "Stack after push ['1', '21', '16', '11', '9']\n",
      "Stack is Overflow\n",
      "Stack after push ['1', '21', '16', '11', '9']\n",
      "9\n",
      "9\n",
      "11\n",
      "11\n"
     ]
    }
   ],
   "source": [
    "class Stack(object):\n",
    "\t\"\"\"docstring for Stack\"\"\"\n",
    "\tdef __init__(self, limit = 10):\n",
    "\t\tself.stk = []\n",
    "\t\tself.limit = limit\n",
    "\n",
    "\tdef isEmpty(self):\n",
    "\t\treturn len(self.stk) <= 0\n",
    "\n",
    "\tdef push(self, item):\n",
    "\t\tif len(self.stk) >= self.limit:\n",
    "\t\t\tprint('Stack is Overflow')\n",
    "\n",
    "\t\telse:\n",
    "\t\t\tself.stk.append(item)\n",
    "\n",
    "\t\tprint('Stack after push', self.stk)\n",
    "\n",
    "\tdef pop(self):\n",
    "\t\tif len(self.stk) <= 0:\n",
    "\t\t\tprint ('Stack is underflow')\n",
    "\t\t\treturn 0\n",
    "\n",
    "\t\telse:\n",
    "\t\t\treturn self.stk.pop()\n",
    "\n",
    "\tdef peek(self):\n",
    "\t\tif len(self.stk) <= 0:\n",
    "\t\t\tprint (\"stack is underflow\")\n",
    "\t\t\treturn 0\n",
    "\n",
    "\t\telse:\n",
    "\t\t\treturn self.stk[-1]\n",
    "\n",
    "\tdef size(self):\n",
    "\t\treturn len(self.stk)\n",
    "\n",
    "\n",
    "\n",
    "our_stack = Stack(5)\n",
    "\n",
    "our_stack.push(\"1\")\n",
    "our_stack.push(\"21\")\n",
    "our_stack.push(\"16\")\n",
    "our_stack.push(\"11\")\n",
    "our_stack.push(\"9\")\n",
    "our_stack.push(\"18\")\n",
    "our_stack.push(\"30\")\n",
    "\n",
    "print (our_stack.peek())\n",
    "print (our_stack.pop())\n",
    "print (our_stack.peek())\n",
    "print (our_stack.pop())\n"
   ]
  },
  {
   "cell_type": "code",
   "execution_count": null,
   "metadata": {
    "collapsed": true
   },
   "outputs": [],
   "source": []
  }
 ],
 "metadata": {
  "kernelspec": {
   "display_name": "Python 3",
   "language": "python",
   "name": "python3"
  },
  "language_info": {
   "codemirror_mode": {
    "name": "ipython",
    "version": 3
   },
   "file_extension": ".py",
   "mimetype": "text/x-python",
   "name": "python",
   "nbconvert_exporter": "python",
   "pygments_lexer": "ipython3",
   "version": "3.6.3"
  }
 },
 "nbformat": 4,
 "nbformat_minor": 2
}
