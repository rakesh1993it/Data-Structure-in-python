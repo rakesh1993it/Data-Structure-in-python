{
 "cells": [
  {
   "cell_type": "markdown",
   "metadata": {},
   "source": [
    "Count Leaf Node of the Tree"
   ]
  },
  {
   "cell_type": "markdown",
   "metadata": {},
   "source": [
    "A Node is leaf node if it hase both left and right child is null"
   ]
  },
  {
   "cell_type": "markdown",
   "metadata": {},
   "source": [
    "Logic:\n",
    "    countofleafnode(node)\n",
    "    1. If node is NULL then return 0.\n",
    "    2. Else if left and right child nodes are NULL then return 1\n",
    "    3. Else recursivel calculate loeaf node count of the tree.\n",
    "        LeafCount = leaf count of the left childe + leaf count of the right child node.\n",
    "        \n",
    "Time Complexity: o(n)\n"
   ]
  },
  {
   "cell_type": "code",
   "execution_count": 13,
   "metadata": {},
   "outputs": [
    {
     "name": "stdout",
     "output_type": "stream",
     "text": [
      "Leaf count of the tree is 3\n"
     ]
    }
   ],
   "source": [
    "class Node:\n",
    "     \n",
    "    def __init__(self, data):\n",
    "        self.data = data \n",
    "        self.left = None\n",
    "        self.right = None\n",
    "\n",
    "def LeafCountOfTree(node):\n",
    "    if node is None:\n",
    "        return 0\n",
    "    if(node.left is None and node.right is None):\n",
    "        return 1\n",
    "    else:\n",
    "        return LeafCountOfTree(node.left) + LeafCountOfTree(node.right)\n",
    " \n",
    " \n",
    "# Driver program to test above function\n",
    "root = Node(1)\n",
    "root.left = Node(2)\n",
    "root.right = Node(3)\n",
    "root.left.left = Node(4)\n",
    "root.left.right = Node(5)\n",
    " \n",
    "print (\"Leaf count of the tree is %d\" %(LeafCountOfTree(root)))"
   ]
  },
  {
   "cell_type": "code",
   "execution_count": null,
   "metadata": {
    "collapsed": true
   },
   "outputs": [],
   "source": []
  }
 ],
 "metadata": {
  "kernelspec": {
   "display_name": "Python 3",
   "language": "python",
   "name": "python3"
  },
  "language_info": {
   "codemirror_mode": {
    "name": "ipython",
    "version": 3
   },
   "file_extension": ".py",
   "mimetype": "text/x-python",
   "name": "python",
   "nbconvert_exporter": "python",
   "pygments_lexer": "ipython3",
   "version": "3.6.3"
  }
 },
 "nbformat": 4,
 "nbformat_minor": 2
}
